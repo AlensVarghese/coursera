{
  "nbformat": 4,
  "nbformat_minor": 0,
  "metadata": {
    "colab": {
      "provenance": [],
      "authorship_tag": "ABX9TyOvp0KM7ChlRB37FvMwP8G0",
      "include_colab_link": true
    },
    "kernelspec": {
      "name": "python3",
      "display_name": "Python 3"
    },
    "language_info": {
      "name": "python"
    }
  },
  "cells": [
    {
      "cell_type": "markdown",
      "metadata": {
        "id": "view-in-github",
        "colab_type": "text"
      },
      "source": [
        "<a href=\"https://colab.research.google.com/github/AlensVarghese/coursera/blob/main/first_python.ipynb\" target=\"_parent\"><img src=\"https://colab.research.google.com/assets/colab-badge.svg\" alt=\"Open In Colab\"/></a>"
      ]
    },
    {
      "cell_type": "markdown",
      "source": [
        "## Assign a value to a variable `a`"
      ],
      "metadata": {
        "id": "5BTiLogCBQ6B"
      }
    },
    {
      "cell_type": "code",
      "execution_count": 1,
      "metadata": {
        "id": "cDY3NPAIBLtT"
      },
      "outputs": [],
      "source": [
        "a=5.6"
      ]
    },
    {
      "cell_type": "code",
      "source": [
        "print(\"the assigned value is :\",a)"
      ],
      "metadata": {
        "colab": {
          "base_uri": "https://localhost:8080/"
        },
        "id": "C2y8uGeuBhQy",
        "outputId": "93e9de7c-648d-439d-844e-15a6315af480"
      },
      "execution_count": 2,
      "outputs": [
        {
          "output_type": "stream",
          "name": "stdout",
          "text": [
            "the assigned value is : 5.6\n"
          ]
        }
      ]
    }
  ]
}